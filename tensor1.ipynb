{
  "nbformat": 4,
  "nbformat_minor": 0,
  "metadata": {
    "colab": {
      "name": "tensor1.ipynb",
      "provenance": [],
      "collapsed_sections": [],
      "authorship_tag": "ABX9TyN2E0CmHfNXtta5mRPouvGF",
      "include_colab_link": true
    },
    "kernelspec": {
      "name": "python3",
      "display_name": "Python 3"
    },
    "language_info": {
      "name": "python"
    }
  },
  "cells": [
    {
      "cell_type": "markdown",
      "metadata": {
        "id": "view-in-github",
        "colab_type": "text"
      },
      "source": [
        "<a href=\"https://colab.research.google.com/github/Francis-trillogy/tensorflow-examples/blob/main/tensor1.ipynb\" target=\"_parent\"><img src=\"https://colab.research.google.com/assets/colab-badge.svg\" alt=\"Open In Colab\"/></a>"
      ]
    },
    {
      "cell_type": "code",
      "metadata": {
        "id": "79icHQaPUpt_"
      },
      "source": [
        "# import necessary dependencies\n",
        "import tensorflow as tf\n",
        "# tf.logging.set_verbosity (tf.logging.Error) - This function is removed once upgrade to tensorflow 2\n",
        "import numpy as np"
      ],
      "execution_count": null,
      "outputs": []
    },
    {
      "cell_type": "code",
      "metadata": {
        "id": "JpuJvcidU9VS"
      },
      "source": [
        "# Problem statement : Covert Celcius to fahrenheit\n",
        "# aproximate formula = C * 1.8 + 32"
      ],
      "execution_count": null,
      "outputs": []
    },
    {
      "cell_type": "code",
      "metadata": {
        "colab": {
          "base_uri": "https://localhost:8080/"
        },
        "id": "tRZ1jYCgW5Y0",
        "outputId": "5d59f810-aafd-45a7-d220-05f96b96cb4d"
      },
      "source": [
        "# Creating two lists Celcius and fahrenheit that we can use to train our model\n",
        "celcius = np.array([-40, -10, 0, 8, 15, 22, 38])\n",
        "fahrenheit = np.array([-40, 14, 32, 46, 59, 72, 100])\n",
        "\n",
        "for i,c in enumerate(celcius):\n",
        "  print (\"{} degrees celcius = {}degrees fahrenheit\".format (c,fahrenheit[i]))"
      ],
      "execution_count": null,
      "outputs": [
        {
          "output_type": "stream",
          "text": [
            "-40 degrees celcius = -40degrees fahrenheit\n",
            "-10 degrees celcius = 14degrees fahrenheit\n",
            "0 degrees celcius = 32degrees fahrenheit\n",
            "8 degrees celcius = 46degrees fahrenheit\n",
            "15 degrees celcius = 59degrees fahrenheit\n",
            "22 degrees celcius = 72degrees fahrenheit\n",
            "38 degrees celcius = 100degrees fahrenheit\n"
          ],
          "name": "stdout"
        }
      ]
    },
    {
      "cell_type": "code",
      "metadata": {
        "id": "IwiFtXPXdzOY"
      },
      "source": [
        "# Create the model\n",
        "# We will use the simplest model we can (Dense Network). Since the problem is sraightfoward, the network will require only a single layer with a single neauron"
      ],
      "execution_count": null,
      "outputs": []
    },
    {
      "cell_type": "code",
      "metadata": {
        "id": "NJIFGB5WUUE3"
      },
      "source": [
        "# Building a layer\n",
        "# layer1 = tf.keras.layers.Dense(units=1,input_shape =[1])"
      ],
      "execution_count": null,
      "outputs": []
    },
    {
      "cell_type": "code",
      "metadata": {
        "id": "rbndjyJcdIWU"
      },
      "source": [
        "# Assembling the model\n",
        "# model = tf.keras.Sequential([layer1])\n"
      ],
      "execution_count": null,
      "outputs": []
    },
    {
      "cell_type": "code",
      "metadata": {
        "id": "ptUmN61djNO_"
      },
      "source": [
        "# Another way to define layers\n",
        "model = tf.keras.Sequential([\n",
        "                                    tf.keras.layers.Dense(units=1, input_shape = [1])\n",
        "])"
      ],
      "execution_count": null,
      "outputs": []
    },
    {
      "cell_type": "code",
      "metadata": {
        "id": "AsdMeklQjlh3"
      },
      "source": [
        "# Compile the model with loss and optimizer function\n",
        "model.compile (loss='mean_squared_error',\n",
        "              optimizer= tf.keras.optimizers.Adam(0.1))"
      ],
      "execution_count": null,
      "outputs": []
    },
    {
      "cell_type": "code",
      "metadata": {
        "colab": {
          "base_uri": "https://localhost:8080/"
        },
        "id": "zRFoIVagkpBH",
        "outputId": "1e8ad0eb-c70c-4cda-bb2b-f514140939cf"
      },
      "source": [
        "# training the model\n",
        "history = model.fit(celcius, fahrenheit, epochs=500, verbose=False)\n",
        "print (\"finished training the model\")"
      ],
      "execution_count": null,
      "outputs": [
        {
          "output_type": "stream",
          "text": [
            "finished training the model\n"
          ],
          "name": "stdout"
        }
      ]
    },
    {
      "cell_type": "code",
      "metadata": {
        "id": "Ks8lUBBkFG7q"
      },
      "source": [
        "# Displaay training statistics\n",
        "import matplotlib.pyplot as plt\n",
        "%matplotlib inline"
      ],
      "execution_count": null,
      "outputs": []
    },
    {
      "cell_type": "code",
      "metadata": {
        "colab": {
          "base_uri": "https://localhost:8080/",
          "height": 279
        },
        "id": "ndHZ1wetGu91",
        "outputId": "f4dcca1f-68a3-4ada-fbe9-c763c3995425"
      },
      "source": [
        "plt.xlabel('Epoch Number')\n",
        "plt.ylabel(\"loss magnitude\")\n",
        "plt.plot(history.history['loss'])\n",
        "plt.show()"
      ],
      "execution_count": null,
      "outputs": [
        {
          "output_type": "display_data",
          "data": {
            "image/png": "[encoded data removed]",
            "text/plain": [
              "<Figure size 432x288 with 1 Axes>"
            ]
          },
          "metadata": {
            "tags": [],
            "needs_background": "light"
          }
        }
      ]
    },
    {
      "cell_type": "code",
      "metadata": {
        "colab": {
          "base_uri": "https://localhost:8080/"
        },
        "id": "faFwRlcUHIWN",
        "outputId": "2310cc9c-c43d-472b-81cf-d8627b53c27f"
      },
      "source": [
        "print (model.predict([100]))"
      ],
      "execution_count": null,
      "outputs": [
        {
          "output_type": "stream",
          "text": [
            "[[211.2754]]\n"
          ],
          "name": "stdout"
        }
      ]
    },
    {
      "cell_type": "code",
      "metadata": {
        "colab": {
          "base_uri": "https://localhost:8080/"
        },
        "id": "sK5S4J2MIxWH",
        "outputId": "2a6f486f-7bda-4334-de79-93930015f987"
      },
      "source": [
        "print ('The internal variables are : {}'.format (model.get_weights()))"
      ],
      "execution_count": null,
      "outputs": [
        {
          "output_type": "stream",
          "text": [
            "The internal variables are : [array([[1.8292181]], dtype=float32), array([28.353588], dtype=float32)]\n"
          ],
          "name": "stdout"
        }
      ]
    },
    {
      "cell_type": "code",
      "metadata": {
        "id": "s19MBoAKKhFe"
      },
      "source": [
        ""
      ],
      "execution_count": null,
      "outputs": []
    }
  ]
}